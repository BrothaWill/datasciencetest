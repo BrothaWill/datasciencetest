{
 "cells": [
  {
   "cell_type": "markdown",
   "id": "5fa94403-a8b6-4fb7-a647-67c59ef88e59",
   "metadata": {},
   "source": [
    "# Data Science Tools and Ecosystem "
   ]
  },
  {
   "cell_type": "markdown",
   "id": "cfc7abde-2184-4054-865d-cf0b29bc277b",
   "metadata": {},
   "source": [
    "In this notebook, data science tools and ecosystem are summarized "
   ]
  },
  {
   "cell_type": "markdown",
   "id": "1a65dc10-fad6-4e4f-afb5-10d97d3d60fe",
   "metadata": {},
   "source": [
    "**Objectives**\n",
    " - List popular languages for Data Science\n",
    " - List popular libraries for Data Science\n",
    " - List a few Data Science Tools \n",
    " - Write some mathematical expressions"
   ]
  },
  {
   "cell_type": "markdown",
   "id": "f1e6bd6a-a568-4222-aebc-a76c370df5cb",
   "metadata": {},
   "source": [
    "Some of the popular languages that Data Scientist use are:\n",
    "1. Python\n",
    "2. R\n",
    "3. SQL\n",
    "4. Julia\n",
    "5. Scala"
   ]
  },
  {
   "cell_type": "markdown",
   "id": "322118c1-4cb0-4b42-91a5-2b701f0ef1fc",
   "metadata": {},
   "source": [
    "Some of the commonly used libraries used by Data Scientists include:\n",
    "1. Pandas\n",
    "2. NumPy\n",
    "3. PyTorch\n",
    "4. Keras\n",
    "5. TensorFlow"
   ]
  },
  {
   "cell_type": "markdown",
   "id": "73c5065c-e4cd-4c62-86d7-1ac95103d98b",
   "metadata": {},
   "source": [
    "| DataScienceTools |\n",
    "| --- |\n",
    "| RStudio |\n",
    "| TensorFlow |\n",
    "| Apache Spark |"
   ]
  },
  {
   "cell_type": "markdown",
   "id": "97280e66-6a26-4300-841d-75da6c5ec380",
   "metadata": {},
   "source": [
    "### Below are a few examples of evaluating arithmetic expressions in Python:"
   ]
  },
  {
   "cell_type": "code",
   "execution_count": 1,
   "id": "a3aa9375-fccf-45c3-a5d0-eefd32ca010b",
   "metadata": {
    "tags": []
   },
   "outputs": [
    {
     "data": {
      "text/plain": [
       "17"
      ]
     },
     "execution_count": 1,
     "metadata": {},
     "output_type": "execute_result"
    }
   ],
   "source": [
    "#this is a simple arithmeic expression to multiply then add integers\n",
    "\n",
    "(3*4)+5"
   ]
  },
  {
   "cell_type": "code",
   "execution_count": 2,
   "id": "33dad84a-2566-432f-9da0-eb268bf70a4f",
   "metadata": {
    "tags": []
   },
   "outputs": [
    {
     "data": {
      "text/plain": [
       "3.3333333333333335"
      ]
     },
     "execution_count": 2,
     "metadata": {},
     "output_type": "execute_result"
    }
   ],
   "source": [
    "#this will convert 200 minutes to hours by dividing by 60\n",
    "\n",
    "200/60"
   ]
  },
  {
   "cell_type": "markdown",
   "id": "82955158-5df1-4690-92a1-c5c276ff4242",
   "metadata": {},
   "source": [
    "## Author\n",
    "William Mansell "
   ]
  },
  {
   "cell_type": "code",
   "execution_count": null,
   "id": "7f1bc295-673b-48ab-b370-c3b6d074edbc",
   "metadata": {},
   "outputs": [],
   "source": []
  }
 ],
 "metadata": {
  "kernelspec": {
   "display_name": "Python",
   "language": "python",
   "name": "conda-env-python-py"
  },
  "language_info": {
   "codemirror_mode": {
    "name": "ipython",
    "version": 3
   },
   "file_extension": ".py",
   "mimetype": "text/x-python",
   "name": "python",
   "nbconvert_exporter": "python",
   "pygments_lexer": "ipython3",
   "version": "3.7.12"
  }
 },
 "nbformat": 4,
 "nbformat_minor": 5
}
